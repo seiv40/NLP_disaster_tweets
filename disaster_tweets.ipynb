{
 "cells": [
  {
   "cell_type": "markdown",
   "id": "a30b1c75",
   "metadata": {},
   "source": [
    "# NLP with Disaster Tweets\n",
    "\n",
    "## 1. Introduction\n",
    "\n",
    "The goal of this project is to build a model that can figure out if a tweet is about a real disaster or not. Originally, I started with a pretty basic LSTM model trained from scratch. It kind of ran fine, but it got stuck around 57% accuracy, which is barely better than random guessing. Also, when I looked at precision and recall, the model basically predicted everything as \"not disaster\" and never found any actual disaster tweets,  \n",
    "which isn’t really useful if you actually want to find important stuff during a real disaster.  \n",
    "\n",
    "Because of that, I decided to improve a few things:\n",
    "- Clean up the text data better (like removing URLs)\n",
    "- Pretrain GloVe embeddings, so the model already has some understanding of word meanings\n",
    "- Instead of using an LSTM, I built a simple 1D Convolutional Neural Network (CNN) model, which tends to work better for short texts like tweets \n",
    "\n",
    "Let's see if these changes help the model actually learn something useful."
   ]
  },
  {
   "cell_type": "code",
   "execution_count": 19,
   "id": "75096667",
   "metadata": {},
   "outputs": [],
   "source": [
    "import numpy as np\n",
    "import pandas as pd\n",
    "import matplotlib.pyplot as plt\n",
    "import seaborn as sns\n",
    "import re\n",
    "import tensorflow as tf\n",
    "from tensorflow.keras.preprocessing.text import Tokenizer\n",
    "from tensorflow.keras.preprocessing.sequence import pad_sequences\n",
    "from tensorflow.keras import Sequential\n",
    "from tensorflow.keras.layers import Embedding, Conv1D, GlobalMaxPooling1D, Dense, Dropout\n",
    "from sklearn.model_selection import train_test_split\n",
    "from sklearn.metrics import classification_report, confusion_matrix\n",
    "\n",
    "np.random.seed(123)\n",
    "tf.random.set_seed(123)"
   ]
  },
  {
   "cell_type": "markdown",
   "id": "4d5fe8ee",
   "metadata": {},
   "source": [
    "## 2. Data\n",
    "\n",
    "The dataset has tweets and a label for each one (1 = disaster, 0 = not disaster). We’ll only use the `text` column as other columns like `keyword` and `location` have a lot of missing values and aren't needed for this project."
   ]
  },
  {
   "cell_type": "code",
   "execution_count": 20,
   "id": "effee2c0",
   "metadata": {},
   "outputs": [
    {
     "name": "stdout",
     "output_type": "stream",
     "text": [
      "Dataset shape: (7613, 5)\n"
     ]
    },
    {
     "data": {
      "text/html": [
       "<div>\n",
       "<style scoped>\n",
       "    .dataframe tbody tr th:only-of-type {\n",
       "        vertical-align: middle;\n",
       "    }\n",
       "\n",
       "    .dataframe tbody tr th {\n",
       "        vertical-align: top;\n",
       "    }\n",
       "\n",
       "    .dataframe thead th {\n",
       "        text-align: right;\n",
       "    }\n",
       "</style>\n",
       "<table border=\"1\" class=\"dataframe\">\n",
       "  <thead>\n",
       "    <tr style=\"text-align: right;\">\n",
       "      <th></th>\n",
       "      <th>id</th>\n",
       "      <th>keyword</th>\n",
       "      <th>location</th>\n",
       "      <th>text</th>\n",
       "      <th>target</th>\n",
       "    </tr>\n",
       "  </thead>\n",
       "  <tbody>\n",
       "    <tr>\n",
       "      <th>0</th>\n",
       "      <td>1</td>\n",
       "      <td>NaN</td>\n",
       "      <td>NaN</td>\n",
       "      <td>Our Deeds are the Reason of this #earthquake M...</td>\n",
       "      <td>1</td>\n",
       "    </tr>\n",
       "    <tr>\n",
       "      <th>1</th>\n",
       "      <td>4</td>\n",
       "      <td>NaN</td>\n",
       "      <td>NaN</td>\n",
       "      <td>Forest fire near La Ronge Sask. Canada</td>\n",
       "      <td>1</td>\n",
       "    </tr>\n",
       "    <tr>\n",
       "      <th>2</th>\n",
       "      <td>5</td>\n",
       "      <td>NaN</td>\n",
       "      <td>NaN</td>\n",
       "      <td>All residents asked to 'shelter in place' are ...</td>\n",
       "      <td>1</td>\n",
       "    </tr>\n",
       "    <tr>\n",
       "      <th>3</th>\n",
       "      <td>6</td>\n",
       "      <td>NaN</td>\n",
       "      <td>NaN</td>\n",
       "      <td>13,000 people receive #wildfires evacuation or...</td>\n",
       "      <td>1</td>\n",
       "    </tr>\n",
       "    <tr>\n",
       "      <th>4</th>\n",
       "      <td>7</td>\n",
       "      <td>NaN</td>\n",
       "      <td>NaN</td>\n",
       "      <td>Just got sent this photo from Ruby #Alaska as ...</td>\n",
       "      <td>1</td>\n",
       "    </tr>\n",
       "  </tbody>\n",
       "</table>\n",
       "</div>"
      ],
      "text/plain": [
       "   id keyword location                                               text  \\\n",
       "0   1     NaN      NaN  Our Deeds are the Reason of this #earthquake M...   \n",
       "1   4     NaN      NaN             Forest fire near La Ronge Sask. Canada   \n",
       "2   5     NaN      NaN  All residents asked to 'shelter in place' are ...   \n",
       "3   6     NaN      NaN  13,000 people receive #wildfires evacuation or...   \n",
       "4   7     NaN      NaN  Just got sent this photo from Ruby #Alaska as ...   \n",
       "\n",
       "   target  \n",
       "0       1  \n",
       "1       1  \n",
       "2       1  \n",
       "3       1  \n",
       "4       1  "
      ]
     },
     "execution_count": 20,
     "metadata": {},
     "output_type": "execute_result"
    }
   ],
   "source": [
    "data = pd.read_csv('./data/train.csv')\n",
    "print(\"Dataset shape:\", data.shape)\n",
    "data.head()"
   ]
  },
  {
   "cell_type": "markdown",
   "id": "be2e0eef",
   "metadata": {},
   "source": [
    "## 3. Exploratory Data Analysis (EDA)\n",
    "\n",
    "First, I checked the balance between disaster and non-disaster tweets. It’s a little imbalanced (more non-disaster tweets) but not crazy. Also, I looked at a few example tweets to see what the text looks like. Some tweets have weird spellings, hashtags, and links."
   ]
  },
  {
   "cell_type": "code",
   "execution_count": 21,
   "id": "a4220e14",
   "metadata": {},
   "outputs": [
    {
     "data": {
      "image/png": "[encoded data removed]",
      "text/plain": [
       "<Figure size 640x480 with 1 Axes>"
      ]
     },
     "metadata": {},
     "output_type": "display_data"
    },
    {
     "name": "stdout",
     "output_type": "stream",
     "text": [
      "Tweet 1: Our Deeds are the Reason of this #earthquake May ALLAH Forgive us all\n",
      "Tweet 2: Forest fire near La Ronge Sask. Canada\n",
      "Tweet 3: All residents asked to 'shelter in place' are being notified by officers. No other evacuation or shelter in place orders are expected\n",
      "Tweet 4: 13,000 people receive #wildfires evacuation orders in California \n",
      "Tweet 5: Just got sent this photo from Ruby #Alaska as smoke from #wildfires pours into a school \n"
     ]
    }
   ],
   "source": [
    "# class distribution\n",
    "sns.countplot(x='target', data=data)\n",
    "plt.title('Disaster vs Non-Disaster Tweets Distribution')\n",
    "plt.show()\n",
    "\n",
    "# some sample tweets\n",
    "for idx in range(5):\n",
    "    print(f\"Tweet {idx+1}: {data['text'].iloc[idx]}\")"
   ]
  },
  {
   "cell_type": "markdown",
   "id": "c72e2bcb",
   "metadata": {},
   "source": [
    "## 4. Cleaning and Preprocessing the Tweets\n",
    "\n",
    "Since tweets are messy, I did some basic cleaning:\n",
    "- Made everything lowercase\n",
    "- Got rid of punctuation and special characters\n",
    "- Removed URLs because a lot of tweets have links that aren't useful for classification\n",
    "\n",
    "There’s definitely fancier stuff you could do (like removing stopwords, lemmatization, etc.), but for now I'm keeping it simple. After cleaning, I tokenized the tweets, turned them into sequences of numbers, and padded them so they all have the same length. Neural nets need input of the same size in each batch, so padding is necessary."
   ]
  },
  {
   "cell_type": "code",
   "execution_count": 22,
   "id": "b50f8461",
   "metadata": {},
   "outputs": [],
   "source": [
    "# basic text cleaning\n",
    "def clean_text(text):\n",
    "    text = text.lower()\n",
    "    text = re.sub(r\"http\\S+\", \"\", text)  # remove links\n",
    "    text = re.sub(r'[^a-z0-9\\s]', '', text)\n",
    "    return text\n",
    "\n",
    "data['text_clean'] = data['text'].apply(clean_text)\n",
    "\n",
    "# tokenizer\n",
    "tokenizer = Tokenizer(num_words=10000, oov_token=\"<OOV>\")\n",
    "tokenizer.fit_on_texts(data['text_clean'])\n",
    "\n",
    "# convert to sequences\n",
    "sequences = tokenizer.texts_to_sequences(data['text_clean'])\n",
    "padded_sequences = pad_sequences(sequences, maxlen=100, padding='post', truncating='post')\n",
    "\n",
    "# labels and features\n",
    "X = padded_sequences\n",
    "y = data['target'].values\n",
    "\n",
    "# split into train/test\n",
    "X_train, X_test, y_train, y_test = train_test_split(X, y, test_size=0.2, random_state=42)"
   ]
  },
  {
   "cell_type": "markdown",
   "id": "5cc81be4",
   "metadata": {},
   "source": [
    "## 5. Initial Model Architecture\n",
    "\n",
    "Since tweets are short sequences, I initially decided to use an LSTM model. LSTM (Long Short-Term Memory) networks are good for remembering important information from earlier words in a sequence.  \n",
    "\n",
    "Instead of doing TF-IDF (which just counts word importance), I used an Embedding layer. Embedding layers let the model learn a lower-dimensional vector for each word, so it can pick up on word meaning and similarity on its own during training.  \n",
    "\n",
    "The model has:\n",
    "- Embedding layer\n",
    "- LSTM layer with 64 units\n",
    "- Dropout layer to help prevent overfitting\n",
    "- Dense layer with sigmoid activation to output 0 or 1\n",
    "\n",
    "I thought about using a bidirectional LSTM but kept it simple because training would be a lot slower and this project doesn't need it. Here’s what happened:\n",
    "- Accuracy was around 57%\n",
    "- Precision was basically 0 for disaster tweets\n",
    "- Model always guessed \"not disaster\" for everything\n",
    "\n",
    "Here’s a summary of the first model's evaluation:\n",
    "\n",
    "| Metric | Value |\n",
    "|:-------|:------|\n",
    "| Test Accuracy | 0.5739 |\n",
    "| Precision (Disaster Class) | 0.00 |\n",
    "| Recall (Disaster Class) | 0.00 |\n",
    "| F1-Score (Disaster Class) | 0.00 |\n",
    "\n",
    "Basically, the model wasn’t picking up much useful information at all. So it was time to make it smarter."
   ]
  },
  {
   "cell_type": "markdown",
   "id": "c69da066",
   "metadata": {},
   "source": [
    "## 6. Building a Better Model (with GloVe)\n",
    "\n",
    "To help the model \"know\" what words mean from the start, I used GloVe word embeddings. These are pretrained vectors trained on billions of words. First, I loaded the GloVe file, and then I created an embedding matrix that matches the tokenizer word index.\n",
    "\n",
    "Instead of an LSTM, this time I built a simple 1D CNN model:\n",
    "- GloVe embedding layer\n",
    "- 1D convolutional layer to capture local patterns\n",
    "- Global max pooling to reduce the sequence into a single vector\n",
    "- Dense layers to classify\n",
    "\n",
    "CNNs tend to work better with short texts like tweets because they can find important phrases quickly.\n",
    "\n",
    "Here’s the updated model."
   ]
  },
  {
   "cell_type": "code",
   "execution_count": 23,
   "id": "b0f33c51",
   "metadata": {},
   "outputs": [
    {
     "name": "stdout",
     "output_type": "stream",
     "text": [
      "Found 400000 word vectors in GloVe.\n"
     ]
    },
    {
     "name": "stderr",
     "output_type": "stream",
     "text": [
      "C:\\Users\\sunny\\AppData\\Local\\Programs\\Python\\Python311\\Lib\\site-packages\\keras\\src\\layers\\core\\embedding.py:90: UserWarning: Argument `input_length` is deprecated. Just remove it.\n",
      "  warnings.warn(\n"
     ]
    },
    {
     "data": {
      "text/html": [
       "<pre style=\"white-space:pre;overflow-x:auto;line-height:normal;font-family:Menlo,'DejaVu Sans Mono',consolas,'Courier New',monospace\"><span style=\"font-weight: bold\">Model: \"sequential_4\"</span>\n",
       "</pre>\n"
      ],
      "text/plain": [
       "\u001b[1mModel: \"sequential_4\"\u001b[0m\n"
      ]
     },
     "metadata": {},
     "output_type": "display_data"
    },
    {
     "data": {
      "text/html": [
       "<pre style=\"white-space:pre;overflow-x:auto;line-height:normal;font-family:Menlo,'DejaVu Sans Mono',consolas,'Courier New',monospace\">┏━━━━━━━━━━━━━━━━━━━━━━━━━━━━━━━━━━━━━━┳━━━━━━━━━━━━━━━━━━━━━━━━━━━━━┳━━━━━━━━━━━━━━━━━┓\n",
       "┃<span style=\"font-weight: bold\"> Layer (type)                         </span>┃<span style=\"font-weight: bold\"> Output Shape                </span>┃<span style=\"font-weight: bold\">         Param # </span>┃\n",
       "┡━━━━━━━━━━━━━━━━━━━━━━━━━━━━━━━━━━━━━━╇━━━━━━━━━━━━━━━━━━━━━━━━━━━━━╇━━━━━━━━━━━━━━━━━┩\n",
       "│ embedding_4 (<span style=\"color: #0087ff; text-decoration-color: #0087ff\">Embedding</span>)              │ ?                           │       <span style=\"color: #00af00; text-decoration-color: #00af00\">1,000,000</span> │\n",
       "├──────────────────────────────────────┼─────────────────────────────┼─────────────────┤\n",
       "│ conv1d (<span style=\"color: #0087ff; text-decoration-color: #0087ff\">Conv1D</span>)                      │ ?                           │     <span style=\"color: #00af00; text-decoration-color: #00af00\">0</span> (unbuilt) │\n",
       "├──────────────────────────────────────┼─────────────────────────────┼─────────────────┤\n",
       "│ global_max_pooling1d                 │ ?                           │               <span style=\"color: #00af00; text-decoration-color: #00af00\">0</span> │\n",
       "│ (<span style=\"color: #0087ff; text-decoration-color: #0087ff\">GlobalMaxPooling1D</span>)                 │                             │                 │\n",
       "├──────────────────────────────────────┼─────────────────────────────┼─────────────────┤\n",
       "│ dropout_7 (<span style=\"color: #0087ff; text-decoration-color: #0087ff\">Dropout</span>)                  │ ?                           │               <span style=\"color: #00af00; text-decoration-color: #00af00\">0</span> │\n",
       "├──────────────────────────────────────┼─────────────────────────────┼─────────────────┤\n",
       "│ dense_7 (<span style=\"color: #0087ff; text-decoration-color: #0087ff\">Dense</span>)                      │ ?                           │     <span style=\"color: #00af00; text-decoration-color: #00af00\">0</span> (unbuilt) │\n",
       "├──────────────────────────────────────┼─────────────────────────────┼─────────────────┤\n",
       "│ dropout_8 (<span style=\"color: #0087ff; text-decoration-color: #0087ff\">Dropout</span>)                  │ ?                           │               <span style=\"color: #00af00; text-decoration-color: #00af00\">0</span> │\n",
       "├──────────────────────────────────────┼─────────────────────────────┼─────────────────┤\n",
       "│ dense_8 (<span style=\"color: #0087ff; text-decoration-color: #0087ff\">Dense</span>)                      │ ?                           │     <span style=\"color: #00af00; text-decoration-color: #00af00\">0</span> (unbuilt) │\n",
       "└──────────────────────────────────────┴─────────────────────────────┴─────────────────┘\n",
       "</pre>\n"
      ],
      "text/plain": [
       "┏━━━━━━━━━━━━━━━━━━━━━━━━━━━━━━━━━━━━━━┳━━━━━━━━━━━━━━━━━━━━━━━━━━━━━┳━━━━━━━━━━━━━━━━━┓\n",
       "┃\u001b[1m \u001b[0m\u001b[1mLayer (type)                        \u001b[0m\u001b[1m \u001b[0m┃\u001b[1m \u001b[0m\u001b[1mOutput Shape               \u001b[0m\u001b[1m \u001b[0m┃\u001b[1m \u001b[0m\u001b[1m        Param #\u001b[0m\u001b[1m \u001b[0m┃\n",
       "┡━━━━━━━━━━━━━━━━━━━━━━━━━━━━━━━━━━━━━━╇━━━━━━━━━━━━━━━━━━━━━━━━━━━━━╇━━━━━━━━━━━━━━━━━┩\n",
       "│ embedding_4 (\u001b[38;5;33mEmbedding\u001b[0m)              │ ?                           │       \u001b[38;5;34m1,000,000\u001b[0m │\n",
       "├──────────────────────────────────────┼─────────────────────────────┼─────────────────┤\n",
       "│ conv1d (\u001b[38;5;33mConv1D\u001b[0m)                      │ ?                           │     \u001b[38;5;34m0\u001b[0m (unbuilt) │\n",
       "├──────────────────────────────────────┼─────────────────────────────┼─────────────────┤\n",
       "│ global_max_pooling1d                 │ ?                           │               \u001b[38;5;34m0\u001b[0m │\n",
       "│ (\u001b[38;5;33mGlobalMaxPooling1D\u001b[0m)                 │                             │                 │\n",
       "├──────────────────────────────────────┼─────────────────────────────┼─────────────────┤\n",
       "│ dropout_7 (\u001b[38;5;33mDropout\u001b[0m)                  │ ?                           │               \u001b[38;5;34m0\u001b[0m │\n",
       "├──────────────────────────────────────┼─────────────────────────────┼─────────────────┤\n",
       "│ dense_7 (\u001b[38;5;33mDense\u001b[0m)                      │ ?                           │     \u001b[38;5;34m0\u001b[0m (unbuilt) │\n",
       "├──────────────────────────────────────┼─────────────────────────────┼─────────────────┤\n",
       "│ dropout_8 (\u001b[38;5;33mDropout\u001b[0m)                  │ ?                           │               \u001b[38;5;34m0\u001b[0m │\n",
       "├──────────────────────────────────────┼─────────────────────────────┼─────────────────┤\n",
       "│ dense_8 (\u001b[38;5;33mDense\u001b[0m)                      │ ?                           │     \u001b[38;5;34m0\u001b[0m (unbuilt) │\n",
       "└──────────────────────────────────────┴─────────────────────────────┴─────────────────┘\n"
      ]
     },
     "metadata": {},
     "output_type": "display_data"
    },
    {
     "data": {
      "text/html": [
       "<pre style=\"white-space:pre;overflow-x:auto;line-height:normal;font-family:Menlo,'DejaVu Sans Mono',consolas,'Courier New',monospace\"><span style=\"font-weight: bold\"> Total params: </span><span style=\"color: #00af00; text-decoration-color: #00af00\">1,000,000</span> (3.81 MB)\n",
       "</pre>\n"
      ],
      "text/plain": [
       "\u001b[1m Total params: \u001b[0m\u001b[38;5;34m1,000,000\u001b[0m (3.81 MB)\n"
      ]
     },
     "metadata": {},
     "output_type": "display_data"
    },
    {
     "data": {
      "text/html": [
       "<pre style=\"white-space:pre;overflow-x:auto;line-height:normal;font-family:Menlo,'DejaVu Sans Mono',consolas,'Courier New',monospace\"><span style=\"font-weight: bold\"> Trainable params: </span><span style=\"color: #00af00; text-decoration-color: #00af00\">1,000,000</span> (3.81 MB)\n",
       "</pre>\n"
      ],
      "text/plain": [
       "\u001b[1m Trainable params: \u001b[0m\u001b[38;5;34m1,000,000\u001b[0m (3.81 MB)\n"
      ]
     },
     "metadata": {},
     "output_type": "display_data"
    },
    {
     "data": {
      "text/html": [
       "<pre style=\"white-space:pre;overflow-x:auto;line-height:normal;font-family:Menlo,'DejaVu Sans Mono',consolas,'Courier New',monospace\"><span style=\"font-weight: bold\"> Non-trainable params: </span><span style=\"color: #00af00; text-decoration-color: #00af00\">0</span> (0.00 B)\n",
       "</pre>\n"
      ],
      "text/plain": [
       "\u001b[1m Non-trainable params: \u001b[0m\u001b[38;5;34m0\u001b[0m (0.00 B)\n"
      ]
     },
     "metadata": {},
     "output_type": "display_data"
    }
   ],
   "source": [
    "# GloVe embeddings\n",
    "embedding_index = {}\n",
    "\n",
    "with open('./data/glove.6B.100d.txt', encoding='utf8') as f:\n",
    "    for line in f:\n",
    "        values = line.split()\n",
    "        word = values[0]\n",
    "        vector = np.asarray(values[1:], dtype='float32')\n",
    "        embedding_index[word] = vector\n",
    "\n",
    "print(f\"Found {len(embedding_index)} word vectors in GloVe.\")\n",
    "\n",
    "# embedding matrix\n",
    "embedding_dim = 100\n",
    "word_index = tokenizer.word_index\n",
    "embedding_matrix = np.zeros((10000, embedding_dim))\n",
    "\n",
    "for word, i in word_index.items():\n",
    "    if i < 10000:\n",
    "        embedding_vector = embedding_index.get(word)\n",
    "        if embedding_vector is not None:\n",
    "            embedding_matrix[i] = embedding_vector\n",
    "\n",
    "# CNN model\n",
    "model = Sequential([\n",
    "    Embedding(input_dim=10000, output_dim=100, weights=[embedding_matrix], input_length=100, trainable=True),\n",
    "    Conv1D(128, kernel_size=5, activation='relu'),\n",
    "    GlobalMaxPooling1D(),\n",
    "    Dropout(0.5),\n",
    "    Dense(64, activation='relu'),\n",
    "    Dropout(0.3),\n",
    "    Dense(1, activation='sigmoid')\n",
    "])\n",
    "\n",
    "model.compile(loss='binary_crossentropy', optimizer='adam', metrics=['accuracy'])\n",
    "\n",
    "model.summary()\n"
   ]
  },
  {
   "cell_type": "markdown",
   "id": "75b86e48",
   "metadata": {},
   "source": [
    "## 7. Training the Model\n",
    "\n",
    "I trained the improved model for 10 epochs like before, and monitored validation accuracy and loss."
   ]
  },
  {
   "cell_type": "code",
   "execution_count": 24,
   "id": "180b4db2",
   "metadata": {
    "scrolled": false
   },
   "outputs": [
    {
     "name": "stdout",
     "output_type": "stream",
     "text": [
      "Epoch 1/10\n",
      "\u001b[1m191/191\u001b[0m \u001b[32m━━━━━━━━━━━━━━━━━━━━\u001b[0m\u001b[37m\u001b[0m \u001b[1m20s\u001b[0m 63ms/step - accuracy: 0.6500 - loss: 0.6340 - val_accuracy: 0.8050 - val_loss: 0.4443\n",
      "Epoch 2/10\n",
      "\u001b[1m191/191\u001b[0m \u001b[32m━━━━━━━━━━━━━━━━━━━━\u001b[0m\u001b[37m\u001b[0m \u001b[1m11s\u001b[0m 58ms/step - accuracy: 0.7965 - loss: 0.4517 - val_accuracy: 0.8201 - val_loss: 0.4267\n",
      "Epoch 3/10\n",
      "\u001b[1m191/191\u001b[0m \u001b[32m━━━━━━━━━━━━━━━━━━━━\u001b[0m\u001b[37m\u001b[0m \u001b[1m11s\u001b[0m 57ms/step - accuracy: 0.8367 - loss: 0.3946 - val_accuracy: 0.8221 - val_loss: 0.4231\n",
      "Epoch 4/10\n",
      "\u001b[1m191/191\u001b[0m \u001b[32m━━━━━━━━━━━━━━━━━━━━\u001b[0m\u001b[37m\u001b[0m \u001b[1m10s\u001b[0m 54ms/step - accuracy: 0.8620 - loss: 0.3320 - val_accuracy: 0.8168 - val_loss: 0.4324\n",
      "Epoch 5/10\n",
      "\u001b[1m191/191\u001b[0m \u001b[32m━━━━━━━━━━━━━━━━━━━━\u001b[0m\u001b[37m\u001b[0m \u001b[1m12s\u001b[0m 60ms/step - accuracy: 0.8824 - loss: 0.2778 - val_accuracy: 0.8175 - val_loss: 0.4576\n",
      "Epoch 6/10\n",
      "\u001b[1m191/191\u001b[0m \u001b[32m━━━━━━━━━━━━━━━━━━━━\u001b[0m\u001b[37m\u001b[0m \u001b[1m11s\u001b[0m 59ms/step - accuracy: 0.9103 - loss: 0.2312 - val_accuracy: 0.8116 - val_loss: 0.5140\n",
      "Epoch 7/10\n",
      "\u001b[1m191/191\u001b[0m \u001b[32m━━━━━━━━━━━━━━━━━━━━\u001b[0m\u001b[37m\u001b[0m \u001b[1m11s\u001b[0m 58ms/step - accuracy: 0.9323 - loss: 0.1897 - val_accuracy: 0.8056 - val_loss: 0.5660\n",
      "Epoch 8/10\n",
      "\u001b[1m191/191\u001b[0m \u001b[32m━━━━━━━━━━━━━━━━━━━━\u001b[0m\u001b[37m\u001b[0m \u001b[1m12s\u001b[0m 60ms/step - accuracy: 0.9503 - loss: 0.1474 - val_accuracy: 0.8096 - val_loss: 0.6099\n",
      "Epoch 9/10\n",
      "\u001b[1m191/191\u001b[0m \u001b[32m━━━━━━━━━━━━━━━━━━━━\u001b[0m\u001b[37m\u001b[0m \u001b[1m12s\u001b[0m 60ms/step - accuracy: 0.9510 - loss: 0.1313 - val_accuracy: 0.8089 - val_loss: 0.6131\n",
      "Epoch 10/10\n",
      "\u001b[1m191/191\u001b[0m \u001b[32m━━━━━━━━━━━━━━━━━━━━\u001b[0m\u001b[37m\u001b[0m \u001b[1m11s\u001b[0m 58ms/step - accuracy: 0.9578 - loss: 0.1240 - val_accuracy: 0.8070 - val_loss: 0.6599\n"
     ]
    }
   ],
   "source": [
    "# train the model\n",
    "history = model.fit(\n",
    "    X_train, y_train,\n",
    "    validation_data=(X_test, y_test),\n",
    "    epochs=10,\n",
    "    batch_size=32\n",
    ")"
   ]
  },
  {
   "cell_type": "markdown",
   "id": "0b128a9a",
   "metadata": {},
   "source": [
    "## 8. Results and Evaluation\n",
    "\n",
    "After training, I checked how the model performed on the test set. Besides accuracy, I also looked at precision, recall, and F1-score. For this task, recall matters a lot because missing a real disaster tweet (false negative) is worse than flagging a regular tweet by mistake. I also plotted the confusion matrix to see where the model made mistakes."
   ]
  },
  {
   "cell_type": "code",
   "execution_count": 25,
   "id": "01417676",
   "metadata": {
    "scrolled": false
   },
   "outputs": [
    {
     "name": "stdout",
     "output_type": "stream",
     "text": [
      "\u001b[1m48/48\u001b[0m \u001b[32m━━━━━━━━━━━━━━━━━━━━\u001b[0m\u001b[37m\u001b[0m \u001b[1m1s\u001b[0m 20ms/step - accuracy: 0.7933 - loss: 0.6728\n",
      "Test Accuracy: 0.8070\n",
      "\u001b[1m48/48\u001b[0m \u001b[32m━━━━━━━━━━━━━━━━━━━━\u001b[0m\u001b[37m\u001b[0m \u001b[1m1s\u001b[0m 20ms/step\n",
      "              precision    recall  f1-score   support\n",
      "\n",
      "           0       0.81      0.87      0.84       874\n",
      "           1       0.81      0.72      0.76       649\n",
      "\n",
      "    accuracy                           0.81      1523\n",
      "   macro avg       0.81      0.80      0.80      1523\n",
      "weighted avg       0.81      0.81      0.81      1523\n",
      "\n"
     ]
    },
    {
     "data": {
      "image/png": "[encoded data removed]",
      "text/plain": [
       "<Figure size 640x480 with 2 Axes>"
      ]
     },
     "metadata": {},
     "output_type": "display_data"
    }
   ],
   "source": [
    "# evaluate model\n",
    "loss, acc = model.evaluate(X_test, y_test)\n",
    "print(f\"Test Accuracy: {acc:.4f}\")\n",
    "\n",
    "# predictions\n",
    "y_pred = (model.predict(X_test) > 0.5).astype('int32')\n",
    "\n",
    "# classification report\n",
    "print(classification_report(y_test, y_pred))\n",
    "\n",
    "# confusion matrix\n",
    "cm = confusion_matrix(y_test, y_pred)\n",
    "sns.heatmap(cm, annot=True, fmt='d')\n",
    "plt.xlabel('Predicted')\n",
    "plt.ylabel('Actual')\n",
    "plt.title('Confusion Matrix')\n",
    "plt.show()"
   ]
  },
  {
   "cell_type": "markdown",
   "id": "c3c2b4a6",
   "metadata": {},
   "source": [
    "## 9. Results\n",
    "\n",
    "Here's a quick table with the hyperparameters I used and the final model performance based on the evaluation:\n",
    "\n",
    "---\n",
    "\n",
    "### Hyperparameters\n",
    "\n",
    "| Hyperparameter | Value |\n",
    "|:---------------|:------|\n",
    "| Vocabulary Size | 10,000 |\n",
    "| Embedding Dimension | 100 |\n",
    "| LSTM Units | 64 |\n",
    "| Dropout Rate | 0.3 |\n",
    "| Optimizer | Adam |\n",
    "| Batch Size | 32 |\n",
    "\n",
    "---\n",
    "\n",
    "### Model Performance\n",
    "\n",
    "| Metric | Value |\n",
    "|:-------|:------|\n",
    "| Test Accuracy | 0.807 |\n",
    "| Precision | 0.81 |\n",
    "| Recall | 0.72 |\n",
    "| F1-Score | 0.76 |\n",
    "\n",
    "---\n",
    "\n",
    "Compared to the earlier LSTM model, switching to a 1D CNN significantly boosted performance. Validation accuracy reached about 81%, and the model successfully captured disaster-related patterns in tweets. While some overfitting was noticed after several epochs, the overall results showed a strong improvement over the baseline."
   ]
  },
  {
   "cell_type": "markdown",
   "id": "4cff9070",
   "metadata": {},
   "source": [
    "## 10. Conclusion\n",
    "\n",
    "At the beginning of this project, I tried using a simple LSTM model trained from scratch, but it didn’t really perform well. The accuracy stayed stuck around 57%, and the model couldn’t tell disaster tweets apart from normal ones very well.  \n",
    "\n",
    "After seeing that, I decided to make some improvements. First, I added basic text cleaning to remove things like URLs. Then I switched from random embeddings to pretrained GloVe word vectors so the model could start with a better understanding of how words relate to each other. Finally, instead of sticking with LSTMs, I used a 1D Convolutional Neural Network (CNN), since CNNs are often better for short texts like tweets.\n",
    "\n",
    "The final CNN model ended up performing way better than the first attempt. It reached around 81% test accuracy, with a F1-score of 76% for disaster tweets. It was able to catch disaster tweets much more accurately while not flagging too many normal tweets by mistake.\n",
    "\n",
    "Overall, the biggest takeaways were:\n",
    "- Pretrained word embeddings like GloVe really help when working with text\n",
    "- For short and messy text like tweets, CNNs can be more effective (and faster) than RNNs\n",
    "- Doing some basic data cleaning early on makes a bigger difference than I expected\n",
    "\n",
    "If I had more time, I'd probably try adding multiple convolution filter sizes, tuning the dropout rates more carefully, or even trying out a lightweight transformer model like DistilBERT. But for this project, the CNN gave strong results without overcomplicating things, and I'm happy with how it turned out."
   ]
  },
  {
   "cell_type": "code",
   "execution_count": 26,
   "id": "f8dfd4c9",
   "metadata": {},
   "outputs": [
    {
     "name": "stdout",
     "output_type": "stream",
     "text": [
      "\u001b[1m102/102\u001b[0m \u001b[32m━━━━━━━━━━━━━━━━━━━━\u001b[0m\u001b[37m\u001b[0m \u001b[1m1s\u001b[0m 12ms/step\n",
      "Kaggle submission file 'submission.csv' created successfully!\n"
     ]
    }
   ],
   "source": [
    "# Keggle stuff\n",
    "\n",
    "test_data = pd.read_csv('./data/test.csv')\n",
    "test_data['text_clean'] = test_data['text'].apply(clean_text)\n",
    "\n",
    "test_sequences = tokenizer.texts_to_sequences(test_data['text_clean'])\n",
    "test_padded = pad_sequences(test_sequences, maxlen=100, padding='post', truncating='post')\n",
    "\n",
    "# predictions\n",
    "preds = (model.predict(test_padded) > 0.5).astype('int32')\n",
    "\n",
    "submission = pd.DataFrame({\n",
    "    'id': test_data['id'],\n",
    "    'target': preds.flatten()\n",
    "})\n",
    "\n",
    "submission.to_csv('submission.csv', index=False)\n",
    "print(\"Kaggle submission file 'submission.csv' created successfully!\")"
   ]
  }
 ],
 "metadata": {
  "kernelspec": {
   "display_name": "Python 3 (Standalone)",
   "language": "python",
   "name": "python3"
  },
  "language_info": {
   "codemirror_mode": {
    "name": "ipython",
    "version": 3
   },
   "file_extension": ".py",
   "mimetype": "text/x-python",
   "name": "python",
   "nbconvert_exporter": "python",
   "pygments_lexer": "ipython3",
   "version": "3.11.7"
  }
 },
 "nbformat": 4,
 "nbformat_minor": 5
}
